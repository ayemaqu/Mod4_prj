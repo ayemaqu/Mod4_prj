{
 "cells": [
  {
   "cell_type": "markdown",
   "id": "d5c27c64",
   "metadata": {},
   "source": [
    "## Framing the Objective\n",
    "- **PM’s Objective** : Does ridership increase on working days during early evening (5–7pm) after launching a small app feature? \n",
    "    - So we’re testing whether the “Post-launch” period shows more rides/hour than the “Pre-launch” period.\n",
    "\n",
    "### Step 2: Define Metric & Eligibility\n",
    "- **Primary Metric**: Average hourly rides (cnt) during 17:00–19:00 (5–7pm) on working days when weather is good.\n",
    "- Eligibility Filters (keep only rows where):\n",
    "    - workingday == 1\n",
    "    - hr E {17,18,19}\n",
    "    - weathersit ∈ {1,2} (clear/mist)\n",
    "    - hum <= 0.70\n",
    "\n",
    "### Step 3: Define Windows (Pretend Launch Date)\n",
    "- Pre (Baseline): 2012-08-04 -> 2012-08-31\n",
    "- Post (Feature On): 2012-09-01 -> 2012-09-28\n",
    "\n",
    "### Step 4: Build Groups A vs B\n",
    "- Group A = Pre rows (after filtering)\n",
    "- Group B = Post rows (after filtering)\n",
    "- Balance check: For each weekday x hour, make sure group A and B have the same number of rows (truncate to smaller count).\n",
    "\n",
    "### Step 5: Run Test\n",
    "- Null Hypothesis H₀: No difference in average rides/hour between Pre and Post.\n",
    "- Alternative H₁: Post > Pre (one-sided or two-sided depending on setup).\n",
    "- Use a t-test (independent samples, Welch’s).\n",
    "- Report: t-statistic, p-value, 95% CI.\n",
    "- Practical significance: e.g., +5 rides/hour is the meaningful threshold.\n",
    "\n",
    "### Step 6: check guardrails\n",
    "- the guardrail is my “final sanity check” step, right before the PM recommendation"
   ]
  },
  {
   "cell_type": "code",
   "execution_count": 23,
   "id": "10650aa0",
   "metadata": {},
   "outputs": [],
   "source": [
    "import pandas as pd\n",
    "import numpy as np\n",
    "from scipy import stats\n",
    "import matplotlib.pyplot as plt"
   ]
  },
  {
   "cell_type": "code",
   "execution_count": null,
   "id": "5caf0ff4",
   "metadata": {},
   "outputs": [],
   "source": [
    "df = pd.read_csv('/Users/ayemaq/Desktop/Mod4_prj/dataset/hour.csv')"
   ]
  },
  {
   "cell_type": "code",
   "execution_count": 5,
   "id": "f4af45d3",
   "metadata": {},
   "outputs": [
    {
     "name": "stdout",
     "output_type": "stream",
     "text": [
      "(1165, 17)\n"
     ]
    },
    {
     "data": {
      "text/plain": [
       "'\\n- creates a filtered dataset called eligible\\n- keeps only rows that meet all conditions\\n- prints out how many rows are left, so i know my data size after filtering\\n'"
      ]
     },
     "execution_count": 5,
     "metadata": {},
     "output_type": "execute_result"
    }
   ],
   "source": [
    "# Step 1: Apply eligibility filters\n",
    "eligible = df[\n",
    "    (df['workingday'] == 1) &\n",
    "    (df['hr'].isin([17, 18, 19])) &\n",
    "    (df['weathersit'].isin([1, 2])) &\n",
    "    (df['hum'] <= 0.70)\n",
    "]\n",
    "\n",
    "# quick sanity check\n",
    "print(eligible.shape)\n",
    "eligible.head()\n",
    "\n",
    "'''\n",
    "- creates a filtered dataset called eligible\n",
    "- keeps only rows that meet all conditions\n",
    "- prints out how many rows are left, so i know my data size after filtering\n",
    "'''"
   ]
  },
  {
   "cell_type": "code",
   "execution_count": null,
   "id": "d804b5ff",
   "metadata": {},
   "outputs": [
    {
     "name": "stdout",
     "output_type": "stream",
     "text": [
      "Pre window:  (53, 17)\n",
      "Post window:  (48, 17)\n"
     ]
    },
    {
     "data": {
      "text/plain": [
       "(       instant      dteday  season  yr  mnth  hr  holiday  weekday  \\\n",
       " 13884    13885  2012-08-06       3   1     8  17        0        1   \n",
       " 13885    13886  2012-08-06       3   1     8  18        0        1   \n",
       " 13886    13887  2012-08-06       3   1     8  19        0        1   \n",
       " 13908    13909  2012-08-07       3   1     8  17        0        2   \n",
       " 13909    13910  2012-08-07       3   1     8  18        0        2   \n",
       " \n",
       "        workingday  weathersit  temp   atemp   hum  windspeed  casual  \\\n",
       " 13884           1           1  0.82  0.7424  0.41     0.0000     112   \n",
       " 13885           1           1  0.82  0.7424  0.41     0.1343     100   \n",
       " 13886           1           1  0.78  0.7424  0.59     0.1940     109   \n",
       " 13908           1           2  0.78  0.7424  0.62     0.1343     125   \n",
       " 13909           1           2  0.76  0.7121  0.62     0.1642     103   \n",
       " \n",
       "        registered  cnt  \n",
       " 13884         746  858  \n",
       " 13885         743  843  \n",
       " 13886         531  640  \n",
       " 13908         743  868  \n",
       " 13909         711  814  ,\n",
       "        instant      dteday  season  yr  mnth  hr  holiday  weekday  \\\n",
       " 14580    14581  2012-09-04       3   1     9  17        0        2   \n",
       " 14582    14583  2012-09-04       3   1     9  19        0        2   \n",
       " 14604    14605  2012-09-05       3   1     9  17        0        3   \n",
       " 14606    14607  2012-09-05       3   1     9  19        0        3   \n",
       " 14628    14629  2012-09-06       3   1     9  17        0        4   \n",
       " \n",
       "        workingday  weathersit  temp   atemp   hum  windspeed  casual  \\\n",
       " 14580           1           1  0.76  0.7273  0.70     0.3582     110   \n",
       " 14582           1           1  0.76  0.7273  0.70     0.2239      50   \n",
       " 14604           1           1  0.76  0.7273  0.66     0.2537      83   \n",
       " 14606           1           1  0.74  0.6970  0.70     0.1642      64   \n",
       " 14628           1           1  0.74  0.6970  0.70     0.2537      67   \n",
       " \n",
       "        registered  cnt  \n",
       " 14580         746  856  \n",
       " 14582         502  552  \n",
       " 14604         780  863  \n",
       " 14606         598  662  \n",
       " 14628         741  808  )"
      ]
     },
     "execution_count": 8,
     "metadata": {},
     "output_type": "execute_result"
    }
   ],
   "source": [
    "# Step 2: Define windows\n",
    "pre = eligible[(eligible['dteday'] >= '2012-08-04') & (eligible['dteday'] <= '2012-08-31')]\n",
    "post = eligible[(eligible['dteday'] >= '2012-09-01') & (eligible['dteday'] <= '2012-09-28')]\n",
    "print(\"Pre window: \", pre.shape)\n",
    "print(\"Post window: \", post.shape)\n",
    "\n",
    "pre.head(), post.head()\n",
    "# splits eligible into pre and post groups by date\n",
    "# prints out how many rows are in each group"
   ]
  },
  {
   "cell_type": "code",
   "execution_count": null,
   "id": "12c9ee26",
   "metadata": {},
   "outputs": [
    {
     "name": "stdout",
     "output_type": "stream",
     "text": [
      "Pre counts: weekday  hr\n",
      "1        17    4\n",
      "         18    3\n",
      "         19    3\n",
      "2        17    3\n",
      "         18    4\n",
      "         19    3\n",
      "3        17    3\n",
      "         18    3\n",
      "         19    3\n",
      "4        17    4\n",
      "         18    4\n",
      "         19    4\n",
      "5        17    4\n",
      "         18    4\n",
      "         19    4\n",
      "dtype: int64\n",
      "Post counts: weekday  hr\n",
      "1        17    3\n",
      "         18    2\n",
      "         19    2\n",
      "2        17    3\n",
      "         18    2\n",
      "         19    3\n",
      "3        17    4\n",
      "         18    3\n",
      "         19    4\n",
      "4        17    4\n",
      "         18    4\n",
      "         19    3\n",
      "5        17    4\n",
      "         18    4\n",
      "         19    3\n",
      "dtype: int64\n"
     ]
    }
   ],
   "source": [
    "# Step 3: Balance check (weekday x hour combos)\n",
    "# First count rows in each group\n",
    "pre_counts = pre.groupby(['weekday','hr']).size()\n",
    "post_counts = post.groupby(['weekday','hr']).size()\n",
    "\n",
    "print(\"Pre counts:\", pre_counts)\n",
    "print(\"Post counts:\", post_counts)"
   ]
  },
  {
   "cell_type": "code",
   "execution_count": null,
   "id": "10edc136",
   "metadata": {},
   "outputs": [
    {
     "name": "stdout",
     "output_type": "stream",
     "text": [
      "Balanced dataset: (92, 17)\n"
     ]
    },
    {
     "data": {
      "text/plain": [
       "('2012-08-06', '2012-09-28')"
      ]
     },
     "execution_count": 12,
     "metadata": {},
     "output_type": "execute_result"
    }
   ],
   "source": [
    "balanced = []\n",
    "for (wd, hr), pre_n in pre_counts.items():\n",
    "    post_n = post_counts.get((wd, hr), 0)  #0 if missing\n",
    "    min_n = min(pre_n, post_n)\n",
    "    if min_n > 0:\n",
    "        pre_sample = pre[(pre['weekday']==wd) & (pre['hr']==hr)].sample(min_n, random_state=42)\n",
    "        post_sample = post[(post['weekday']==wd) & (post['hr']==hr)].sample(min_n, random_state=42)\n",
    "        balanced.append(pre_sample)\n",
    "        balanced.append(post_sample)\n",
    "\n",
    "balanced_df = pd.concat(balanced)\n",
    "\n",
    "print(\"Balanced dataset:\", balanced_df.shape)\n",
    "balanced_df['dteday'].min(), balanced_df['dteday'].max()\n"
   ]
  },
  {
   "cell_type": "code",
   "execution_count": null,
   "id": "9ea38c1f",
   "metadata": {},
   "outputs": [
    {
     "name": "stdout",
     "output_type": "stream",
     "text": [
      "T-statistic: 1.567207327368898\n",
      "P-value: 0.12060360760962667\n",
      "Mean difference: 43.78260869565224\n",
      "95% CI: (-10.9733330006815, 98.53855039198598)\n"
     ]
    }
   ],
   "source": [
    "# run the t-test\n",
    "\n",
    "# split the balanced dataset back into pre and post groups\n",
    "pre_bal = balanced_df[balanced_df['dteday'] <= '2012-08-31']['cnt']\n",
    "post_bal = balanced_df[balanced_df['dteday'] >= '2012-09-01']['cnt']\n",
    "\n",
    "# run Welch’s t-test (doesnt assume equal variance REMEMBER)\n",
    "t_stat, p_val = stats.ttest_ind(post_bal, pre_bal, equal_var=False)\n",
    "\n",
    "print(\"T-statistic:\", t_stat)\n",
    "print(\"P-value:\", p_val)\n",
    "\n",
    "# mean diff and 95% CI\n",
    "mean_diff = post_bal.mean() - pre_bal.mean()\n",
    "se_diff = np.sqrt(pre_bal.var()/len(pre_bal) + post_bal.var()/len(post_bal))\n",
    "ci_low = mean_diff - 1.96 * se_diff\n",
    "ci_high = mean_diff + 1.96 * se_diff\n",
    "\n",
    "print(\"Mean difference:\", mean_diff)\n",
    "print(\"95% CI:\", (ci_low, ci_high))\n"
   ]
  },
  {
   "cell_type": "markdown",
   "id": "7cfd1d37",
   "metadata": {},
   "source": [
    "Statistically: no significant evidence the feature increased ridership.\n",
    "\n",
    "Practically: Even though the mean was +44 rides/hour, the uncertainty is too wide, we can’t be confident it’s a real lift.\n",
    "\n",
    "PM Recommendation: don’t roll out just yet because we need more data or a longer test window.\n",
    "- In plain english... don’t roll out yet. The numbers look promising (+44 rides/hour), but they aren’t statistically reliable. Let’s extend the test to gather more data so we can reduce uncertainty"
   ]
  },
  {
   "cell_type": "code",
   "execution_count": 17,
   "id": "59f9f545",
   "metadata": {},
   "outputs": [
    {
     "name": "stdout",
     "output_type": "stream",
     "text": [
      "Weekend Pre avg: 254.44270833333334\n",
      "Weekend Post avg: 298.77777777777777\n",
      "Difference: 44.33506944444443\n"
     ]
    }
   ],
   "source": [
    "# guardrail for weekends (use original df, not eligible) earlier I was lost because I used eligible LOL\n",
    "weekend = df[df['workingday'] == 0]\n",
    "\n",
    "weekend_pre = weekend[(weekend['dteday'] >= '2012-08-04') & (weekend['dteday'] <= '2012-08-31')]['cnt'].mean()\n",
    "weekend_post = weekend[(weekend['dteday'] >= '2012-09-01') & (weekend['dteday'] <= '2012-09-28')]['cnt'].mean()\n",
    "\n",
    "print(\"Weekend Pre avg:\", weekend_pre) # before the pretend launch (Aug 4–31), on weekends, riders averaged ~254 rides per hour\n",
    "print(\"Weekend Post avg:\", weekend_post) # after the launch (Sep 1–28), on weekends, riders averaged ~299 rides per hour\n",
    "print(\"Difference:\", weekend_post - weekend_pre) # that’s ~44 more rides/hour on weekends in the Post period compared to Pre\n"
   ]
  },
  {
   "cell_type": "markdown",
   "id": "7f241cbe",
   "metadata": {},
   "source": [
    "used weekend ridership as a guardrail. Pre-launch weekends averaged ~254 rides/hour, and Post-launch weekends averaged ~299 rides/hour (+44). This suggests no negative impact on weekends, which is encouraging for overall demand"
   ]
  },
  {
   "cell_type": "code",
   "execution_count": 18,
   "id": "0e505f42",
   "metadata": {},
   "outputs": [
    {
     "name": "stdout",
     "output_type": "stream",
     "text": [
      "Pre averages:\n",
      " casual        102.698113\n",
      "registered    636.320755\n",
      "dtype: float64\n",
      "\n",
      "Post averages:\n",
      " casual         87.145833\n",
      "registered    699.750000\n",
      "dtype: float64\n",
      "\n",
      "Differences:\n",
      " casual       -15.552280\n",
      "registered    63.429245\n",
      "dtype: float64\n"
     ]
    }
   ],
   "source": [
    "# some other guardrail metrics i'd like to run is an equity check for casual vs registered riders \n",
    "cas_reg_pre = pre[['casual','registered']].mean()\n",
    "cas_reg_post = post[['casual','registered']].mean()\n",
    "\n",
    "print(\"Pre averages:\\n\", cas_reg_pre)\n",
    "print(\"\\nPost averages:\\n\", cas_reg_post)\n",
    "print(\"\\nDifferences:\\n\", cas_reg_post - cas_reg_pre)\n"
   ]
  },
  {
   "cell_type": "markdown",
   "id": "f8f06e07",
   "metadata": {},
   "source": [
    "Pre averages (before feature launch):\n",
    "- Casual: 102.7 rides/hour\n",
    "- Registered: 636.3 rides/hour\n",
    "\n",
    "Post averages (after feature launch):\n",
    "- Casual: 87.1 rides/hour\n",
    "- Registered: 699.8 rides/hour\n",
    "\n",
    "So actually for casual: –15.6 rides/hour (casual riders actually dropped after the launch) and Registered: +63.4 rides/hour (registered riders increased after the launch)\n",
    "\n",
    "Hmm, this means that the new feature seems to have benefited registered riders more \n",
    "- they’re taking ~63 more rides/hour after launch.\n",
    "- Casual riders dropped slightly (about –16 rides/hour), so the feature might not appeal to tourists/occasional users.\n",
    "\n",
    "As a guardrail metric, this tells the PM:\n",
    "- don’t ignore casuals — the feature is boosting loyal members, but it may discourage new/occasional riders."
   ]
  },
  {
   "cell_type": "code",
   "execution_count": null,
   "id": "a87de2f6",
   "metadata": {},
   "outputs": [
    {
     "name": "stdout",
     "output_type": "stream",
     "text": [
      "Pre variance: 16702.67271407837\n",
      "Post variance: 19591.54210992908\n",
      "Difference: 2888.86939585071\n"
     ]
    }
   ],
   "source": [
    "# lets also check hour peaks for ops because\n",
    "# they should care for teams if the demand spikes too much, this cna strain staff, so its good to be prepared \n",
    "pre_var = pre['cnt'].var()\n",
    "post_var = post['cnt'].var()\n",
    "\n",
    "print(\"Pre variance:\", pre_var)\n",
    "print(\"Post variance:\", post_var)\n",
    "print(\"Difference:\", post_var - pre_var)\n"
   ]
  },
  {
   "cell_type": "markdown",
   "id": "56151db7",
   "metadata": {},
   "source": [
    "basically, after launch, demand got a little spikier. Ops teams should be aware that peaks are more intense now, even if average ridership isn’t statistically significantly higher"
   ]
  },
  {
   "cell_type": "code",
   "execution_count": 21,
   "id": "b80e8621",
   "metadata": {},
   "outputs": [
    {
     "data": {
      "image/png": "[encoded data removed]",
      "text/plain": [
       "<Figure size 640x480 with 1 Axes>"
      ]
     },
     "metadata": {},
     "output_type": "display_data"
    }
   ],
   "source": [
    "# visuals \n",
    "import matplotlib.pyplot as plt\n",
    "\n",
    "# Calculate means\n",
    "pre_mean = pre_bal.mean()\n",
    "post_mean = post_bal.mean()\n",
    "\n",
    "# Use the CI bounds you already computed earlier\n",
    "pre_ci_low, pre_ci_high = pre_bal.mean() - 1.96 * pre_bal.std()/np.sqrt(len(pre_bal)), pre_bal.mean() + 1.96 * pre_bal.std()/np.sqrt(len(pre_bal))\n",
    "post_ci_low, post_ci_high = post_bal.mean() - 1.96 * post_bal.std()/np.sqrt(len(post_bal)), post_bal.mean() + 1.96 * post_bal.std()/np.sqrt(len(post_bal))\n",
    "\n",
    "# Heights of bars\n",
    "means = [pre_mean, post_mean]\n",
    "\n",
    "# Error bar lengths (top & bottom)\n",
    "errors = [[pre_mean - pre_ci_low, post_mean - post_ci_low],\n",
    "          [pre_ci_high - pre_mean, post_ci_high - post_mean]]\n",
    "\n",
    "# Plot\n",
    "plt.bar([\"Pre (Baseline)\", \"Post (Feature On)\"], means,\n",
    "        yerr=errors, capsize=8, color=[\"gray\", \"skyblue\"])\n",
    "\n",
    "plt.ylabel(\"Mean rides/hour\")\n",
    "plt.title(\"Mean Hourly Rides: Pre vs Post (with 95% CI)\")\n",
    "plt.show()\n",
    "\n"
   ]
  },
  {
   "cell_type": "code",
   "execution_count": 24,
   "id": "78068439",
   "metadata": {},
   "outputs": [
    {
     "data": {
      "image/png": "[encoded data removed]",
      "text/plain": [
       "<Figure size 640x480 with 1 Axes>"
      ]
     },
     "metadata": {},
     "output_type": "display_data"
    }
   ],
   "source": [
    "# Parameters\n",
    "df = len(pre_bal) + len(post_bal) - 2  # degrees of freedom\n",
    "alpha = 0.05\n",
    "x = np.linspace(-4, 4, 1000)  # t-values\n",
    "y = t.pdf(x, df)\n",
    "\n",
    "# Critical values\n",
    "t_crit = t.ppf(1 - alpha/2, df)\n",
    "\n",
    "# Observed t-statistic (from my test)\n",
    "t_obs = t_stat  # you already have this\n",
    "\n",
    "# Plot\n",
    "plt.plot(x, y, label=\"t-distribution\")\n",
    "plt.fill_between(x, y, where=(x > t_crit) | (x < -t_crit), color=\"purple\", alpha=0.3, label=\"Rejection region\")\n",
    "plt.axvline(t_obs, color=\"blue\", linestyle=\"--\", label=f\"Observed t = {t_obs:.2f}\")\n",
    "plt.axvline(-t_crit, color=\"red\", linestyle=\":\")\n",
    "plt.axvline(t_crit, color=\"red\", linestyle=\":\")\n",
    "\n",
    "plt.title(\"T-distribution with rejection regions\")\n",
    "plt.xlabel(\"t-value\")\n",
    "plt.ylabel(\"Density\")\n",
    "plt.legend()\n",
    "plt.show()\n"
   ]
  },
  {
   "cell_type": "code",
   "execution_count": null,
   "id": "d919b56f",
   "metadata": {},
   "outputs": [],
   "source": []
  }
 ],
 "metadata": {
  "kernelspec": {
   "display_name": "base",
   "language": "python",
   "name": "python3"
  },
  "language_info": {
   "codemirror_mode": {
    "name": "ipython",
    "version": 3
   },
   "file_extension": ".py",
   "mimetype": "text/x-python",
   "name": "python",
   "nbconvert_exporter": "python",
   "pygments_lexer": "ipython3",
   "version": "3.12.7"
  }
 },
 "nbformat": 4,
 "nbformat_minor": 5
}
