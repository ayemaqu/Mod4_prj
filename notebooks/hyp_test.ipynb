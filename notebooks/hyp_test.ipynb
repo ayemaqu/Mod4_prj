{
 "cells": [
  {
   "cell_type": "markdown",
   "id": "32423cf4",
   "metadata": {},
   "source": [
    "# Q1: Commuter pattern\n",
    "\n",
    "### Question: Do average hourly rides differ between working days and non-working days?"
   ]
  },
  {
   "cell_type": "markdown",
   "id": "f307a4ba",
   "metadata": {},
   "source": [
    "1. Which stakeholder cares?\n",
    "- Ops Lead = staffing & rebalancing windows differ by weekday vs weekend\n",
    "- PM = validates commuter vs leisure hypothesis\n",
    "\n",
    "2. How to sample this data?\n",
    "- Take all rows (hours) labeled workingday = 1 (weekdays) and workingday = 0 (weekends/holidays).\n",
    "- Compare their mean ride counts (cnt).\n",
    "- Each row is an independent hourly observation... so it's  perfect for this test.\n",
    "\n",
    "3. My hypothesis\n",
    "- Null hyp H0: mean rides are the same on working days and non working days\n",
    "- Alt hyp H1: mean rides are different between working days and non working days\n",
    "\n",
    "4. Which test?\n",
    "- This would be a two sample independent test becasue we are comparing means across two independent groups aka weekends vs weekdays \n",
    "\n",
    "5. My Alpha test\n",
    "- .5 sig level b/c it balances the risk of false positives vs missing a real effect.\n",
    "\n",
    "6. Explaining the result \n",
    "\n",
    "(test name + results (p-value, CI), decision (reject or not), plain-eng meaning (why it matters))\n",
    "\n",
    "- Run t-test = report p-value & 95% confidence interval of the mean difference.\n",
    "- If p < 0.05 =vreject H₀: conclude average hourly rides are significantly different.\n",
    "- Interpretation would be that the practical significance: weekday vs weekend usage follows different demand patterns (commute vs leisure)."
   ]
  },
  {
   "cell_type": "code",
   "execution_count": 3,
   "id": "a0a48da2",
   "metadata": {},
   "outputs": [],
   "source": [
    "import pandas as pd\n",
    "import numpy as np\n",
    "from scipy import stats\n"
   ]
  },
  {
   "cell_type": "code",
   "execution_count": 4,
   "id": "d75c9f48",
   "metadata": {},
   "outputs": [],
   "source": [
    "df = pd.read_csv('/Users/ayemaq/Desktop/Mod4_prj/dataset/hour.csv')"
   ]
  },
  {
   "cell_type": "code",
   "execution_count": 5,
   "id": "545ae58e",
   "metadata": {},
   "outputs": [
    {
     "data": {
      "text/html": [
       "<div>\n",
       "<style scoped>\n",
       "    .dataframe tbody tr th:only-of-type {\n",
       "        vertical-align: middle;\n",
       "    }\n",
       "\n",
       "    .dataframe tbody tr th {\n",
       "        vertical-align: top;\n",
       "    }\n",
       "\n",
       "    .dataframe thead th {\n",
       "        text-align: right;\n",
       "    }\n",
       "</style>\n",
       "<table border=\"1\" class=\"dataframe\">\n",
       "  <thead>\n",
       "    <tr style=\"text-align: right;\">\n",
       "      <th></th>\n",
       "      <th>instant</th>\n",
       "      <th>dteday</th>\n",
       "      <th>season</th>\n",
       "      <th>yr</th>\n",
       "      <th>mnth</th>\n",
       "      <th>hr</th>\n",
       "      <th>holiday</th>\n",
       "      <th>weekday</th>\n",
       "      <th>workingday</th>\n",
       "      <th>weathersit</th>\n",
       "      <th>temp</th>\n",
       "      <th>atemp</th>\n",
       "      <th>hum</th>\n",
       "      <th>windspeed</th>\n",
       "      <th>casual</th>\n",
       "      <th>registered</th>\n",
       "      <th>cnt</th>\n",
       "    </tr>\n",
       "  </thead>\n",
       "  <tbody>\n",
       "    <tr>\n",
       "      <th>0</th>\n",
       "      <td>1</td>\n",
       "      <td>2011-01-01</td>\n",
       "      <td>1</td>\n",
       "      <td>0</td>\n",
       "      <td>1</td>\n",
       "      <td>0</td>\n",
       "      <td>0</td>\n",
       "      <td>6</td>\n",
       "      <td>0</td>\n",
       "      <td>1</td>\n",
       "      <td>0.24</td>\n",
       "      <td>0.2879</td>\n",
       "      <td>0.81</td>\n",
       "      <td>0.0</td>\n",
       "      <td>3</td>\n",
       "      <td>13</td>\n",
       "      <td>16</td>\n",
       "    </tr>\n",
       "    <tr>\n",
       "      <th>1</th>\n",
       "      <td>2</td>\n",
       "      <td>2011-01-01</td>\n",
       "      <td>1</td>\n",
       "      <td>0</td>\n",
       "      <td>1</td>\n",
       "      <td>1</td>\n",
       "      <td>0</td>\n",
       "      <td>6</td>\n",
       "      <td>0</td>\n",
       "      <td>1</td>\n",
       "      <td>0.22</td>\n",
       "      <td>0.2727</td>\n",
       "      <td>0.80</td>\n",
       "      <td>0.0</td>\n",
       "      <td>8</td>\n",
       "      <td>32</td>\n",
       "      <td>40</td>\n",
       "    </tr>\n",
       "    <tr>\n",
       "      <th>2</th>\n",
       "      <td>3</td>\n",
       "      <td>2011-01-01</td>\n",
       "      <td>1</td>\n",
       "      <td>0</td>\n",
       "      <td>1</td>\n",
       "      <td>2</td>\n",
       "      <td>0</td>\n",
       "      <td>6</td>\n",
       "      <td>0</td>\n",
       "      <td>1</td>\n",
       "      <td>0.22</td>\n",
       "      <td>0.2727</td>\n",
       "      <td>0.80</td>\n",
       "      <td>0.0</td>\n",
       "      <td>5</td>\n",
       "      <td>27</td>\n",
       "      <td>32</td>\n",
       "    </tr>\n",
       "    <tr>\n",
       "      <th>3</th>\n",
       "      <td>4</td>\n",
       "      <td>2011-01-01</td>\n",
       "      <td>1</td>\n",
       "      <td>0</td>\n",
       "      <td>1</td>\n",
       "      <td>3</td>\n",
       "      <td>0</td>\n",
       "      <td>6</td>\n",
       "      <td>0</td>\n",
       "      <td>1</td>\n",
       "      <td>0.24</td>\n",
       "      <td>0.2879</td>\n",
       "      <td>0.75</td>\n",
       "      <td>0.0</td>\n",
       "      <td>3</td>\n",
       "      <td>10</td>\n",
       "      <td>13</td>\n",
       "    </tr>\n",
       "    <tr>\n",
       "      <th>4</th>\n",
       "      <td>5</td>\n",
       "      <td>2011-01-01</td>\n",
       "      <td>1</td>\n",
       "      <td>0</td>\n",
       "      <td>1</td>\n",
       "      <td>4</td>\n",
       "      <td>0</td>\n",
       "      <td>6</td>\n",
       "      <td>0</td>\n",
       "      <td>1</td>\n",
       "      <td>0.24</td>\n",
       "      <td>0.2879</td>\n",
       "      <td>0.75</td>\n",
       "      <td>0.0</td>\n",
       "      <td>0</td>\n",
       "      <td>1</td>\n",
       "      <td>1</td>\n",
       "    </tr>\n",
       "  </tbody>\n",
       "</table>\n",
       "</div>"
      ],
      "text/plain": [
       "   instant      dteday  season  yr  mnth  hr  holiday  weekday  workingday  \\\n",
       "0        1  2011-01-01       1   0     1   0        0        6           0   \n",
       "1        2  2011-01-01       1   0     1   1        0        6           0   \n",
       "2        3  2011-01-01       1   0     1   2        0        6           0   \n",
       "3        4  2011-01-01       1   0     1   3        0        6           0   \n",
       "4        5  2011-01-01       1   0     1   4        0        6           0   \n",
       "\n",
       "   weathersit  temp   atemp   hum  windspeed  casual  registered  cnt  \n",
       "0           1  0.24  0.2879  0.81        0.0       3          13   16  \n",
       "1           1  0.22  0.2727  0.80        0.0       8          32   40  \n",
       "2           1  0.22  0.2727  0.80        0.0       5          27   32  \n",
       "3           1  0.24  0.2879  0.75        0.0       3          10   13  \n",
       "4           1  0.24  0.2879  0.75        0.0       0           1    1  "
      ]
     },
     "execution_count": 5,
     "metadata": {},
     "output_type": "execute_result"
    }
   ],
   "source": [
    "df.head()"
   ]
  },
  {
   "cell_type": "code",
   "execution_count": 6,
   "id": "dcd103e6",
   "metadata": {},
   "outputs": [],
   "source": [
    "# split rides into workingday vs non-workingday\n",
    "workday_rides = df[df['workingday'] == 1]['cnt']\n",
    "nonworkday_rides = df[df['workingday'] == 0]['cnt']"
   ]
  },
  {
   "cell_type": "code",
   "execution_count": 7,
   "id": "2b07c022",
   "metadata": {},
   "outputs": [
    {
     "name": "stdout",
     "output_type": "stream",
     "text": [
      "T-statistic: 4.095067721524371, P-value: 4.249478377549554e-05\n"
     ]
    }
   ],
   "source": [
    "# run the welch's t-test\n",
    "t_stat, p_value = stats.ttest_ind(workday_rides, nonworkday_rides, equal_var=False)\n",
    "print(f\"T-statistic: {t_stat}, P-value: {p_value}\")\n"
   ]
  },
  {
   "cell_type": "code",
   "execution_count": 8,
   "id": "0dc8465f",
   "metadata": {},
   "outputs": [
    {
     "name": "stdout",
     "output_type": "stream",
     "text": [
      "The Mean Difference: 11.802422015538411\n",
      "95% CI: (6.15349293217658, 17.451351098900243)\n"
     ]
    }
   ],
   "source": [
    "# difference in means\n",
    "mean_diff = workday_rides.mean() - nonworkday_rides.mean() #11.8 is about 12 extra rides/hour on average\n",
    "\n",
    "# standard error of difference\n",
    "se_diff = np.sqrt(workday_rides.var()/len(workday_rides) + nonworkday_rides.var()/len(nonworkday_rides))\n",
    "\n",
    "# 95% CI\n",
    "ci_low = mean_diff - 1.96*se_diff\n",
    "ci_high = mean_diff + 1.96*se_diff\n",
    "\n",
    "print(\"The Mean Difference:\", mean_diff)\n",
    "print(\"95% CI:\", (ci_low, ci_high))\n"
   ]
  },
  {
   "cell_type": "markdown",
   "id": "a2d97050",
   "metadata": {},
   "source": [
    "## Result Of Part A \n",
    "- A two-sample Welch’s t-test found a significant difference in average hourly rides between working days and non-working days (t=4.10, p<0.001). \n",
    "- Conclusion: weekdays really do have more rides per hour than weekends,  about 12 extra rides/hour on average. we’re extremely confident it’s real, not random\n",
    "\n",
    "\n",
    "Stakeholder interpretation:\n",
    "- PM = confirms commuter-driven demand.\n",
    "- Ops Lead = weekdays need extra staffing and bike rebalancing.\n",
    "- Marketing = focus weekend promos on casual riders, since weekday demand is already strong."
   ]
  },
  {
   "cell_type": "markdown",
   "id": "4eb39778",
   "metadata": {},
   "source": [
    "It is important to understand the data so far: \n",
    "\n",
    "1. Weekdays (working days):\n",
    "    - Strong commuter peaks (8am, 5–6pm).\n",
    "    - Registered riders dominate (members, locals).\n",
    "\n",
    "2. Weekends/non-working days:\n",
    "    - Flatter, smoother demand curve.\n",
    "    -  driven by casual riders (tourists, leisure, one-time users).\n",
    "\n",
    "\n",
    "Why I said “focus on casual riders for weekends” for stakeholder interpretation above (marketing) \n",
    "- From a Marketing lens:\n",
    "    - Registered riders are already locked in (commuters who use the system daily).\n",
    "\n",
    "- Casual riders are less predictable, more influenceable by promos.\n",
    "    - So, promos on weekends are more likely to convert occasional riders → bigger ROI.\n",
    "\n",
    "However! \n",
    "\n",
    "- It doesn’t mean ignore registered riders.xWe should also focus on weekends, because people who work during the week may want to relax and enjoy their day off in a meaningful way. Weekends represent an opportunity for both casual riders (tourists, leisure users) and registered riders (locals using bikes for recreation or errands).\n",
    "- Two nuances:\n",
    "    1. PM / Ops side: must still plan capacity for both groups (registered commuters + weekend leisure).\n",
    "    2. Marketing side: messaging/targeting may emphasize casuals on weekends because they’re the growth opportunity.\n",
    "\n",
    "\n",
    "so the split is really about which lever matters most for each stakeholder:\n",
    "- Ops: serve both: enough bikes & docks for all patterns.\n",
    "- PM: track both: confirm system is reliable across use cases."
   ]
  },
  {
   "cell_type": "markdown",
   "id": "f3010634",
   "metadata": {},
   "source": [
    "# Part B: Multi-group comparison\n",
    "Q: Do mean hourly rides differ across categories of multi-level categorical variables such as season or weather condition (choose one)? If you find a difference, describe the appropriate post-hoc (after the test what other tests would you do) approach and what it\n",
    "would tell stakeholders)"
   ]
  },
  {
   "cell_type": "markdown",
   "id": "37fe24dd",
   "metadata": {},
   "source": [
    "weather condition (weathersit) is categorical with 4 levels:\n",
    "\n",
    "- 1 = Clear / Few clouds\n",
    "- 2 = Mist / Cloudy\n",
    "- 3 = Light Snow / Light Rain\n",
    "- 4 = Heavy Rain / Storm"
   ]
  },
  {
   "cell_type": "markdown",
   "id": "a043ea58",
   "metadata": {},
   "source": [
    "- H0 (null): all weather conditions -> same mean rides/hour\n",
    "- H1 (Alt): at least one group filter \n",
    "- Run ANOVA: get F-stat (ratio of between-group variance / within-group variance).\n",
    "    - Large F → groups differ beyond random chance.\n",
    "    - Small F → differences are just noise.\n",
    "- Check p-value: if < 0.05 → reject H0 → not all means are equal.\n",
    "    - BUT… ANOVA doesn’t tell you which differ.\n",
    "- So run Tukey HSD post-hoc to see pairwise comparisons (clear vs mist, clear vs storm, etc.)."
   ]
  },
  {
   "cell_type": "markdown",
   "id": "c1d5e462",
   "metadata": {},
   "source": [
    "### Framing\n",
    "Stakeholders: \n",
    "- PM & Ops -  plan capacity by weather; choose guardrails for bad-weather days.\n",
    "- Marketing: avoid promos during storms; lean into clear days.\n",
    "\n",
    "Sampling:\n",
    "- Use all hourly rows. Split by weathersit (1=Clear, 2=Mist/Cloudy, 3=Light snow/rain, 4=Heavy rain/storm). Outcome = cnt.\n",
    "\n",
    "Hypotheses:\n",
    "- H0: u1 = u2 = u3- u4 -> Thism eans ride/hour are = across weather categories \n",
    "- H1: at least one u differs \n",
    "\n",
    "Alpha:\n",
    "- .05 sig "
   ]
  },
  {
   "cell_type": "code",
   "execution_count": 11,
   "id": "f36ef664",
   "metadata": {},
   "outputs": [],
   "source": [
    "clear = df[df['weathersit'] == 1]['cnt']\n",
    "mist  = df[df['weathersit'] == 2]['cnt']\n",
    "light = df[df['weathersit'] == 3]['cnt']\n",
    "heavy = df[df['weathersit'] == 4]['cnt']\n"
   ]
  },
  {
   "cell_type": "code",
   "execution_count": null,
   "id": "420b4ffe",
   "metadata": {},
   "outputs": [
    {
     "name": "stdout",
     "output_type": "stream",
     "text": [
      "Clear: 11413 mean = 204.8692718829405\n",
      "Mist : 4544 mean = 175.16549295774647\n",
      "Light: 1419 mean = 111.57928118393235\n",
      "Heavy: 3 mean = 74.33333333333333\n"
     ]
    }
   ],
   "source": [
    "print(\"Clear:\", clear.shape[0], \"mean =\", clear.mean())\n",
    "print(\"Mist :\", mist.shape[0], \"mean =\", mist.mean())\n",
    "print(\"Light:\", light.shape[0], \"mean =\", light.mean())\n",
    "print(\"Heavy:\", heavy.shape[0], \"mean =\", heavy.mean())\n",
    "\n",
    "# n (shape[0])... how many hourly rows are in that group\n"
   ]
  },
  {
   "cell_type": "markdown",
   "id": "1818d8fd",
   "metadata": {},
   "source": [
    "Clear (n=11,413): mean ≈ 205 rides/hour\n",
    "\n",
    "Mist (n=4,544): mean ≈ 175 rides/hour\n",
    "\n",
    "Light Snow/Rain (n=1,419): mean ≈ 112 rides/hour\n",
    "\n",
    "Heavy Rain/Storm (n=3): mean ≈ 74 rides/hour"
   ]
  },
  {
   "cell_type": "code",
   "execution_count": 13,
   "id": "2b01ca6e",
   "metadata": {},
   "outputs": [
    {
     "name": "stdout",
     "output_type": "stream",
     "text": [
      "F-statistic: 127.17386949967266 p-value: 1.7347820521802623e-81\n"
     ]
    }
   ],
   "source": [
    "F, p = stats.f_oneway(clear, mist, light, heavy)\n",
    "print(\"F-statistic:\", F, \"p-value:\", p)\n"
   ]
  },
  {
   "cell_type": "markdown",
   "id": "52855679",
   "metadata": {},
   "source": [
    "ANOVA only tells us “at least one group is different.” To see which groups differ (Clear vs Mist, Clear vs Light Rain, etc.), we need to run the Tukey HSD post-hoc test:"
   ]
  },
  {
   "cell_type": "code",
   "execution_count": 14,
   "id": "4cfe8157",
   "metadata": {},
   "outputs": [
    {
     "name": "stdout",
     "output_type": "stream",
     "text": [
      "  Multiple Comparison of Means - Tukey HSD, FWER=0.05   \n",
      "========================================================\n",
      "group1 group2  meandiff p-adj    lower    upper   reject\n",
      "--------------------------------------------------------\n",
      "     1      2  -29.7038    0.0  -37.7909 -21.6166   True\n",
      "     1      3    -93.29    0.0 -106.2676 -80.3123   True\n",
      "     1      4 -130.5359 0.5886 -396.7534 135.6815  False\n",
      "     2      3  -63.5862    0.0  -77.6067 -49.5658   True\n",
      "     2      4 -100.8322 0.7649 -367.1025 165.4381  False\n",
      "     3      4  -37.2459 0.9841 -303.7096 229.2177  False\n",
      "--------------------------------------------------------\n"
     ]
    }
   ],
   "source": [
    "from statsmodels.stats.multicomp import pairwise_tukeyhsd\n",
    "\n",
    "tukey = pairwise_tukeyhsd(endog=df['cnt'], groups=df['weathersit'], alpha=0.05)\n",
    "print(tukey.summary())\n"
   ]
  },
  {
   "cell_type": "markdown",
   "id": "4c072159",
   "metadata": {},
   "source": [
    "ANOVA confirmed that weather conditions significantly affect mean hourly rides (F=127.17, p<0.001). Tukey HSD revealed that clear conditions have significantly higher ridership than mist or light snow/rain, and misty conditions also outperform light snow/rain. Comparisons involving heavy rain/storm were not significant due to very limited data (n=3)."
   ]
  },
  {
   "cell_type": "code",
   "execution_count": null,
   "id": "018ee367",
   "metadata": {},
   "outputs": [
    {
     "data": {
      "text/html": [
       "<div>\n",
       "<style scoped>\n",
       "    .dataframe tbody tr th:only-of-type {\n",
       "        vertical-align: middle;\n",
       "    }\n",
       "\n",
       "    .dataframe tbody tr th {\n",
       "        vertical-align: top;\n",
       "    }\n",
       "\n",
       "    .dataframe thead th {\n",
       "        text-align: right;\n",
       "    }\n",
       "</style>\n",
       "<table border=\"1\" class=\"dataframe\">\n",
       "  <thead>\n",
       "    <tr style=\"text-align: right;\">\n",
       "      <th></th>\n",
       "      <th>count</th>\n",
       "      <th>mean</th>\n",
       "    </tr>\n",
       "    <tr>\n",
       "      <th>weathersit</th>\n",
       "      <th></th>\n",
       "      <th></th>\n",
       "    </tr>\n",
       "  </thead>\n",
       "  <tbody>\n",
       "    <tr>\n",
       "      <th>1</th>\n",
       "      <td>11413</td>\n",
       "      <td>204.869272</td>\n",
       "    </tr>\n",
       "    <tr>\n",
       "      <th>2</th>\n",
       "      <td>4544</td>\n",
       "      <td>175.165493</td>\n",
       "    </tr>\n",
       "    <tr>\n",
       "      <th>3</th>\n",
       "      <td>1419</td>\n",
       "      <td>111.579281</td>\n",
       "    </tr>\n",
       "    <tr>\n",
       "      <th>4</th>\n",
       "      <td>3</td>\n",
       "      <td>74.333333</td>\n",
       "    </tr>\n",
       "  </tbody>\n",
       "</table>\n",
       "</div>"
      ],
      "text/plain": [
       "            count        mean\n",
       "weathersit                   \n",
       "1           11413  204.869272\n",
       "2            4544  175.165493\n",
       "3            1419  111.579281\n",
       "4               3   74.333333"
      ]
     },
     "execution_count": 15,
     "metadata": {},
     "output_type": "execute_result"
    }
   ],
   "source": [
    "df.groupby('weathersit')['cnt'].agg(['count','mean'])"
   ]
  },
  {
   "cell_type": "code",
   "execution_count": 16,
   "id": "b0aa4a98",
   "metadata": {},
   "outputs": [
    {
     "name": "stdout",
     "output_type": "stream",
     "text": [
      "            count        mean         std         se      ci_low     ci_high\n",
      "weathersit                                                                  \n",
      "1           11413  204.869272  189.487773   1.773705  201.392811  208.345733\n",
      "2            4544  175.165493  165.431589   2.454140  170.355379  179.975607\n",
      "3            1419  111.579281  133.781045   3.551431  104.618476  118.540086\n",
      "4               3   74.333333   77.925178  44.990122  -13.847307  162.513973\n"
     ]
    }
   ],
   "source": [
    "weather_summary = (\n",
    "    df.groupby('weathersit')['cnt']\n",
    "      .agg(['count','mean','std'])\n",
    "      .assign(\n",
    "          se=lambda x: x['std'] / np.sqrt(x['count']),     # standard error\n",
    "          ci_low=lambda x: x['mean'] - 1.96 * x['se'],     # lower bound\n",
    "          ci_high=lambda x: x['mean'] + 1.96 * x['se']     # upper bound\n",
    "      )\n",
    ")\n",
    "\n",
    "print(weather_summary)\n"
   ]
  },
  {
   "cell_type": "markdown",
   "id": "c084c037",
   "metadata": {},
   "source": [
    "## Results for part B\n",
    "\n",
    "### Setup\n",
    "I tested whether mean hourly rides differ across weather conditions (clear, mist, light snow/rain, heavy rain/storm) using a one-way ANOVA with α = 0.05. The null hypothesis assumed equal means across all conditions, while the alternative allowed at least one group to differ.\n",
    "\n",
    "### Results\n",
    "The ANOVA was significant (F = 127.18, p < 0.001), indicating that ridership varies by weather. Tukey post-hoc tests showed clear days had significantly higher ridership than mist (≈30 more rides/hour) and light snow/rain (≈93 more rides/hour). Mist also outperformed light snow/rain (≈64 more rides/hour). Comparisons with heavy rain/storm were not significant, but this likely reflects the very small sample size (n = 3).\n",
    "\n",
    "### Group Averages\n",
    "Average ridership was highest on clear days (205 rides/hour, 95% CI [201, 208]), moderate on misty days (175 rides/hour, CI [170, 180]), and much lower during light snow/rain (112 rides/hour, CI [105, 118]). Stormy conditions averaged 74 rides/hour, but estimates are unreliable due to the tiny sample.\n",
    "\n",
    "### Interpretation\n",
    "Weather has a substantial effect on bike demand. Clear days consistently generate the strongest usage, while precipitation reduces ridership. This means operations teams should expect lower demand and adjust staffing/rebalancing accordingly, marketing should focus promotions on clear days, and PMs should treat weather as a confounding factor in testing new features.\n",
    "\n"
   ]
  },
  {
   "cell_type": "code",
   "execution_count": null,
   "id": "458be200",
   "metadata": {},
   "outputs": [],
   "source": []
  },
  {
   "cell_type": "code",
   "execution_count": null,
   "id": "159a6e06",
   "metadata": {},
   "outputs": [],
   "source": []
  },
  {
   "cell_type": "code",
   "execution_count": null,
   "id": "f72dd1bc",
   "metadata": {},
   "outputs": [],
   "source": []
  },
  {
   "cell_type": "code",
   "execution_count": null,
   "id": "a8d2e5a6",
   "metadata": {},
   "outputs": [],
   "source": []
  }
 ],
 "metadata": {
  "kernelspec": {
   "display_name": "base",
   "language": "python",
   "name": "python3"
  },
  "language_info": {
   "codemirror_mode": {
    "name": "ipython",
    "version": 3
   },
   "file_extension": ".py",
   "mimetype": "text/x-python",
   "name": "python",
   "nbconvert_exporter": "python",
   "pygments_lexer": "ipython3",
   "version": "3.12.7"
  }
 },
 "nbformat": 4,
 "nbformat_minor": 5
}
